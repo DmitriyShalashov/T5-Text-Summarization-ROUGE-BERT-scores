{
  "cells": [
    {
      "cell_type": "markdown",
      "metadata": {
        "id": "view-in-github",
        "colab_type": "text"
      },
      "source": [
        "<a href=\"https://colab.research.google.com/github/DmitriyShalashov/T5-Text-Summarization-ROUGE-BERT-scores/blob/main/Text_Summarization.ipynb\" target=\"_parent\"><img src=\"https://colab.research.google.com/assets/colab-badge.svg\" alt=\"Open In Colab\"/></a>"
      ]
    },
    {
      "cell_type": "markdown",
      "source": [
        "# Загрузка данных"
      ],
      "metadata": {
        "id": "r6PNThYeYHVm"
      }
    },
    {
      "cell_type": "code",
      "execution_count": 1,
      "metadata": {
        "id": "gKg6fMeflcfn"
      },
      "outputs": [],
      "source": [
        "import logging\n",
        "logging.basicConfig(level=logging.ERROR)"
      ]
    },
    {
      "cell_type": "code",
      "execution_count": 2,
      "metadata": {
        "id": "ZNBwrPYoT0az"
      },
      "outputs": [],
      "source": [
        "import pandas as pd\n",
        "import os\n",
        "import string\n",
        "import re\n",
        "from datasets import Dataset\n",
        "from transformers import  Seq2SeqTrainingArguments, Seq2SeqTrainer, DataCollatorForSeq2Seq, T5ForConditionalGeneration"
      ]
    },
    {
      "cell_type": "code",
      "execution_count": 3,
      "metadata": {
        "colab": {
          "base_uri": "https://localhost:8080/"
        },
        "id": "oJpW6rFRY4H1",
        "outputId": "1f95c759-09b1-489a-dbf1-114c00e0ada1"
      },
      "outputs": [
        {
          "output_type": "stream",
          "name": "stderr",
          "text": [
            "[nltk_data] Downloading package stopwords to /root/nltk_data...\n",
            "[nltk_data]   Unzipping corpora/stopwords.zip.\n"
          ]
        },
        {
          "output_type": "execute_result",
          "data": {
            "text/plain": [
              "True"
            ]
          },
          "metadata": {},
          "execution_count": 3
        }
      ],
      "source": [
        "from nltk.corpus import stopwords\n",
        "import nltk\n",
        "nltk.download('stopwords')"
      ]
    },
    {
      "cell_type": "code",
      "execution_count": null,
      "metadata": {
        "id": "1D6ceCSQNXzK"
      },
      "outputs": [],
      "source": [
        "import kagglehub\n",
        "\n",
        "# Download latest version\n",
        "path = kagglehub.dataset_download(\"gowrishankarp/newspaper-text-summarization-cnn-dailymail\")\n",
        "\n",
        "print(\"Path to dataset files:\", path)"
      ]
    },
    {
      "cell_type": "code",
      "execution_count": 5,
      "metadata": {
        "colab": {
          "base_uri": "https://localhost:8080/"
        },
        "id": "qmMZYmjDUzV4",
        "outputId": "b3f9bc8c-70ad-43a5-fea8-f28d1b0dc697"
      },
      "outputs": [
        {
          "output_type": "stream",
          "name": "stdout",
          "text": [
            "2/\n",
            "  cnn_dailymail/\n",
            "    validation.csv\n",
            "    train.csv\n",
            "    test.csv\n"
          ]
        }
      ],
      "source": [
        "for root, dirs, files in os.walk(path):\n",
        "    level = root.replace(path, '').count(os.sep)\n",
        "    indent = ' ' * 2 * level\n",
        "    print(f\"{indent}{os.path.basename(root)}/\")\n",
        "    subindent = ' ' * 2 * (level + 1)\n",
        "    for file in files:\n",
        "        print(f\"{subindent}{file}\")"
      ]
    },
    {
      "cell_type": "code",
      "execution_count": 6,
      "metadata": {
        "id": "DNxFzW-mOIbk"
      },
      "outputs": [],
      "source": [
        "train_dir = path + '/cnn_dailymail/train.csv'\n",
        "valid_dir = path + '/cnn_dailymail/train.csv'\n",
        "test_dir = path + '/cnn_dailymail/train.csv'"
      ]
    },
    {
      "cell_type": "code",
      "execution_count": 7,
      "metadata": {
        "id": "ClVlTh2cSmM-"
      },
      "outputs": [],
      "source": [
        "df_train=pd.read_csv(train_dir)\n",
        "df_val=pd.read_csv(valid_dir)\n",
        "df_test=pd.read_csv(test_dir)"
      ]
    },
    {
      "cell_type": "code",
      "execution_count": 8,
      "metadata": {
        "colab": {
          "base_uri": "https://localhost:8080/",
          "height": 206
        },
        "id": "jTC9GLWZVp_y",
        "outputId": "de97c78e-7080-4547-e39a-bed18799e1f9"
      },
      "outputs": [
        {
          "output_type": "execute_result",
          "data": {
            "text/plain": [
              "                                              id  \\\n",
              "236465  be1382972f8b42ad73c32717652f012e09b32f15   \n",
              "39372   6f3a4791e6b3455876606cf9cd3970034450f51e   \n",
              "11674   212b9806868ab1b04d8afff7282fb0ac58e12e78   \n",
              "140783  420bc3f1e7929964d3596df2fb38e3b4e8e7579c   \n",
              "37621   6a8bd18665530faa59095d2449bb4f16530d2003   \n",
              "\n",
              "                                                  article  \\\n",
              "236465  London (CNN) -- At least 57 people were arrest...   \n",
              "39372   By . Charlie Mccann . PUBLISHED: . 06:58 EST, ...   \n",
              "11674   Brutal: A youngster said to have been killed f...   \n",
              "140783  Allyson Ng was jailed for fraudulently helping...   \n",
              "37621   By . Daily Mail Reporter . PUBLISHED: . 10:08 ...   \n",
              "\n",
              "                                               highlights  \n",
              "236465  People accused of having weapons with a violen...  \n",
              "39372   The first DIY device of its kind it uses light...  \n",
              "11674   IS seized 149 schoolchildren and subjected the...  \n",
              "140783  Allyson Ng, 45, charged £110 to get Mandarin s...  \n",
              "37621   Sharon Carpenter, 61, died in Ehab Aly Mohamed...  "
            ],
            "text/html": [
              "\n",
              "  <div id=\"df-866ca868-d03b-40ea-963b-c6c0769d3af3\" class=\"colab-df-container\">\n",
              "    <div>\n",
              "<style scoped>\n",
              "    .dataframe tbody tr th:only-of-type {\n",
              "        vertical-align: middle;\n",
              "    }\n",
              "\n",
              "    .dataframe tbody tr th {\n",
              "        vertical-align: top;\n",
              "    }\n",
              "\n",
              "    .dataframe thead th {\n",
              "        text-align: right;\n",
              "    }\n",
              "</style>\n",
              "<table border=\"1\" class=\"dataframe\">\n",
              "  <thead>\n",
              "    <tr style=\"text-align: right;\">\n",
              "      <th></th>\n",
              "      <th>id</th>\n",
              "      <th>article</th>\n",
              "      <th>highlights</th>\n",
              "    </tr>\n",
              "  </thead>\n",
              "  <tbody>\n",
              "    <tr>\n",
              "      <th>236465</th>\n",
              "      <td>be1382972f8b42ad73c32717652f012e09b32f15</td>\n",
              "      <td>London (CNN) -- At least 57 people were arrest...</td>\n",
              "      <td>People accused of having weapons with a violen...</td>\n",
              "    </tr>\n",
              "    <tr>\n",
              "      <th>39372</th>\n",
              "      <td>6f3a4791e6b3455876606cf9cd3970034450f51e</td>\n",
              "      <td>By . Charlie Mccann . PUBLISHED: . 06:58 EST, ...</td>\n",
              "      <td>The first DIY device of its kind it uses light...</td>\n",
              "    </tr>\n",
              "    <tr>\n",
              "      <th>11674</th>\n",
              "      <td>212b9806868ab1b04d8afff7282fb0ac58e12e78</td>\n",
              "      <td>Brutal: A youngster said to have been killed f...</td>\n",
              "      <td>IS seized 149 schoolchildren and subjected the...</td>\n",
              "    </tr>\n",
              "    <tr>\n",
              "      <th>140783</th>\n",
              "      <td>420bc3f1e7929964d3596df2fb38e3b4e8e7579c</td>\n",
              "      <td>Allyson Ng was jailed for fraudulently helping...</td>\n",
              "      <td>Allyson Ng, 45, charged £110 to get Mandarin s...</td>\n",
              "    </tr>\n",
              "    <tr>\n",
              "      <th>37621</th>\n",
              "      <td>6a8bd18665530faa59095d2449bb4f16530d2003</td>\n",
              "      <td>By . Daily Mail Reporter . PUBLISHED: . 10:08 ...</td>\n",
              "      <td>Sharon Carpenter, 61, died in Ehab Aly Mohamed...</td>\n",
              "    </tr>\n",
              "  </tbody>\n",
              "</table>\n",
              "</div>\n",
              "    <div class=\"colab-df-buttons\">\n",
              "\n",
              "  <div class=\"colab-df-container\">\n",
              "    <button class=\"colab-df-convert\" onclick=\"convertToInteractive('df-866ca868-d03b-40ea-963b-c6c0769d3af3')\"\n",
              "            title=\"Convert this dataframe to an interactive table.\"\n",
              "            style=\"display:none;\">\n",
              "\n",
              "  <svg xmlns=\"http://www.w3.org/2000/svg\" height=\"24px\" viewBox=\"0 -960 960 960\">\n",
              "    <path d=\"M120-120v-720h720v720H120Zm60-500h600v-160H180v160Zm220 220h160v-160H400v160Zm0 220h160v-160H400v160ZM180-400h160v-160H180v160Zm440 0h160v-160H620v160ZM180-180h160v-160H180v160Zm440 0h160v-160H620v160Z\"/>\n",
              "  </svg>\n",
              "    </button>\n",
              "\n",
              "  <style>\n",
              "    .colab-df-container {\n",
              "      display:flex;\n",
              "      gap: 12px;\n",
              "    }\n",
              "\n",
              "    .colab-df-convert {\n",
              "      background-color: #E8F0FE;\n",
              "      border: none;\n",
              "      border-radius: 50%;\n",
              "      cursor: pointer;\n",
              "      display: none;\n",
              "      fill: #1967D2;\n",
              "      height: 32px;\n",
              "      padding: 0 0 0 0;\n",
              "      width: 32px;\n",
              "    }\n",
              "\n",
              "    .colab-df-convert:hover {\n",
              "      background-color: #E2EBFA;\n",
              "      box-shadow: 0px 1px 2px rgba(60, 64, 67, 0.3), 0px 1px 3px 1px rgba(60, 64, 67, 0.15);\n",
              "      fill: #174EA6;\n",
              "    }\n",
              "\n",
              "    .colab-df-buttons div {\n",
              "      margin-bottom: 4px;\n",
              "    }\n",
              "\n",
              "    [theme=dark] .colab-df-convert {\n",
              "      background-color: #3B4455;\n",
              "      fill: #D2E3FC;\n",
              "    }\n",
              "\n",
              "    [theme=dark] .colab-df-convert:hover {\n",
              "      background-color: #434B5C;\n",
              "      box-shadow: 0px 1px 3px 1px rgba(0, 0, 0, 0.15);\n",
              "      filter: drop-shadow(0px 1px 2px rgba(0, 0, 0, 0.3));\n",
              "      fill: #FFFFFF;\n",
              "    }\n",
              "  </style>\n",
              "\n",
              "    <script>\n",
              "      const buttonEl =\n",
              "        document.querySelector('#df-866ca868-d03b-40ea-963b-c6c0769d3af3 button.colab-df-convert');\n",
              "      buttonEl.style.display =\n",
              "        google.colab.kernel.accessAllowed ? 'block' : 'none';\n",
              "\n",
              "      async function convertToInteractive(key) {\n",
              "        const element = document.querySelector('#df-866ca868-d03b-40ea-963b-c6c0769d3af3');\n",
              "        const dataTable =\n",
              "          await google.colab.kernel.invokeFunction('convertToInteractive',\n",
              "                                                    [key], {});\n",
              "        if (!dataTable) return;\n",
              "\n",
              "        const docLinkHtml = 'Like what you see? Visit the ' +\n",
              "          '<a target=\"_blank\" href=https://colab.research.google.com/notebooks/data_table.ipynb>data table notebook</a>'\n",
              "          + ' to learn more about interactive tables.';\n",
              "        element.innerHTML = '';\n",
              "        dataTable['output_type'] = 'display_data';\n",
              "        await google.colab.output.renderOutput(dataTable, element);\n",
              "        const docLink = document.createElement('div');\n",
              "        docLink.innerHTML = docLinkHtml;\n",
              "        element.appendChild(docLink);\n",
              "      }\n",
              "    </script>\n",
              "  </div>\n",
              "\n",
              "\n",
              "    <div id=\"df-197ab096-ccdb-4660-aad6-0e7fa8967851\">\n",
              "      <button class=\"colab-df-quickchart\" onclick=\"quickchart('df-197ab096-ccdb-4660-aad6-0e7fa8967851')\"\n",
              "                title=\"Suggest charts\"\n",
              "                style=\"display:none;\">\n",
              "\n",
              "<svg xmlns=\"http://www.w3.org/2000/svg\" height=\"24px\"viewBox=\"0 0 24 24\"\n",
              "     width=\"24px\">\n",
              "    <g>\n",
              "        <path d=\"M19 3H5c-1.1 0-2 .9-2 2v14c0 1.1.9 2 2 2h14c1.1 0 2-.9 2-2V5c0-1.1-.9-2-2-2zM9 17H7v-7h2v7zm4 0h-2V7h2v10zm4 0h-2v-4h2v4z\"/>\n",
              "    </g>\n",
              "</svg>\n",
              "      </button>\n",
              "\n",
              "<style>\n",
              "  .colab-df-quickchart {\n",
              "      --bg-color: #E8F0FE;\n",
              "      --fill-color: #1967D2;\n",
              "      --hover-bg-color: #E2EBFA;\n",
              "      --hover-fill-color: #174EA6;\n",
              "      --disabled-fill-color: #AAA;\n",
              "      --disabled-bg-color: #DDD;\n",
              "  }\n",
              "\n",
              "  [theme=dark] .colab-df-quickchart {\n",
              "      --bg-color: #3B4455;\n",
              "      --fill-color: #D2E3FC;\n",
              "      --hover-bg-color: #434B5C;\n",
              "      --hover-fill-color: #FFFFFF;\n",
              "      --disabled-bg-color: #3B4455;\n",
              "      --disabled-fill-color: #666;\n",
              "  }\n",
              "\n",
              "  .colab-df-quickchart {\n",
              "    background-color: var(--bg-color);\n",
              "    border: none;\n",
              "    border-radius: 50%;\n",
              "    cursor: pointer;\n",
              "    display: none;\n",
              "    fill: var(--fill-color);\n",
              "    height: 32px;\n",
              "    padding: 0;\n",
              "    width: 32px;\n",
              "  }\n",
              "\n",
              "  .colab-df-quickchart:hover {\n",
              "    background-color: var(--hover-bg-color);\n",
              "    box-shadow: 0 1px 2px rgba(60, 64, 67, 0.3), 0 1px 3px 1px rgba(60, 64, 67, 0.15);\n",
              "    fill: var(--button-hover-fill-color);\n",
              "  }\n",
              "\n",
              "  .colab-df-quickchart-complete:disabled,\n",
              "  .colab-df-quickchart-complete:disabled:hover {\n",
              "    background-color: var(--disabled-bg-color);\n",
              "    fill: var(--disabled-fill-color);\n",
              "    box-shadow: none;\n",
              "  }\n",
              "\n",
              "  .colab-df-spinner {\n",
              "    border: 2px solid var(--fill-color);\n",
              "    border-color: transparent;\n",
              "    border-bottom-color: var(--fill-color);\n",
              "    animation:\n",
              "      spin 1s steps(1) infinite;\n",
              "  }\n",
              "\n",
              "  @keyframes spin {\n",
              "    0% {\n",
              "      border-color: transparent;\n",
              "      border-bottom-color: var(--fill-color);\n",
              "      border-left-color: var(--fill-color);\n",
              "    }\n",
              "    20% {\n",
              "      border-color: transparent;\n",
              "      border-left-color: var(--fill-color);\n",
              "      border-top-color: var(--fill-color);\n",
              "    }\n",
              "    30% {\n",
              "      border-color: transparent;\n",
              "      border-left-color: var(--fill-color);\n",
              "      border-top-color: var(--fill-color);\n",
              "      border-right-color: var(--fill-color);\n",
              "    }\n",
              "    40% {\n",
              "      border-color: transparent;\n",
              "      border-right-color: var(--fill-color);\n",
              "      border-top-color: var(--fill-color);\n",
              "    }\n",
              "    60% {\n",
              "      border-color: transparent;\n",
              "      border-right-color: var(--fill-color);\n",
              "    }\n",
              "    80% {\n",
              "      border-color: transparent;\n",
              "      border-right-color: var(--fill-color);\n",
              "      border-bottom-color: var(--fill-color);\n",
              "    }\n",
              "    90% {\n",
              "      border-color: transparent;\n",
              "      border-bottom-color: var(--fill-color);\n",
              "    }\n",
              "  }\n",
              "</style>\n",
              "\n",
              "      <script>\n",
              "        async function quickchart(key) {\n",
              "          const quickchartButtonEl =\n",
              "            document.querySelector('#' + key + ' button');\n",
              "          quickchartButtonEl.disabled = true;  // To prevent multiple clicks.\n",
              "          quickchartButtonEl.classList.add('colab-df-spinner');\n",
              "          try {\n",
              "            const charts = await google.colab.kernel.invokeFunction(\n",
              "                'suggestCharts', [key], {});\n",
              "          } catch (error) {\n",
              "            console.error('Error during call to suggestCharts:', error);\n",
              "          }\n",
              "          quickchartButtonEl.classList.remove('colab-df-spinner');\n",
              "          quickchartButtonEl.classList.add('colab-df-quickchart-complete');\n",
              "        }\n",
              "        (() => {\n",
              "          let quickchartButtonEl =\n",
              "            document.querySelector('#df-197ab096-ccdb-4660-aad6-0e7fa8967851 button');\n",
              "          quickchartButtonEl.style.display =\n",
              "            google.colab.kernel.accessAllowed ? 'block' : 'none';\n",
              "        })();\n",
              "      </script>\n",
              "    </div>\n",
              "    </div>\n",
              "  </div>\n"
            ],
            "application/vnd.google.colaboratory.intrinsic+json": {
              "type": "dataframe",
              "summary": "{\n  \"name\": \"df_train\",\n  \"rows\": 5,\n  \"fields\": [\n    {\n      \"column\": \"id\",\n      \"properties\": {\n        \"dtype\": \"string\",\n        \"num_unique_values\": 5,\n        \"samples\": [\n          \"6f3a4791e6b3455876606cf9cd3970034450f51e\",\n          \"6a8bd18665530faa59095d2449bb4f16530d2003\",\n          \"212b9806868ab1b04d8afff7282fb0ac58e12e78\"\n        ],\n        \"semantic_type\": \"\",\n        \"description\": \"\"\n      }\n    },\n    {\n      \"column\": \"article\",\n      \"properties\": {\n        \"dtype\": \"string\",\n        \"num_unique_values\": 5,\n        \"samples\": [\n          \"By . Charlie Mccann . PUBLISHED: . 06:58 EST, 9 May 2013 . | . UPDATED: . 08:36 EST, 9 May 2013 . A futuristic laser gun that claims to permanently remove hair in 12 weeks and costs a hair-raising \\u00a3375 is set to become the gadget sensation of the year for British women. The gizmo, reportedly a favourite with Kim Kardashian, has this week gone on sale at upmarket stores like Harrods and Harvey Nichols. The Tria Hair Removal Laser claims to be the first DIY machine of its kind and uses light-based laser beams previously only available at salons. Kim Kardashian is a fan of the \\u00a3375 Tria laser gun, which comes in fuschia and green . Such treatments are currently the most popular aesthetic beauty treatments among women aged 35 and under. Tests on the Tria found it zapped away 70 per cent of body hair in just two treatments while use over the course of 12 weeks, once weekly, permanently removed nearly all strands of hair. And those that escape its rays will come back finer and lighter so they can hardly be seen, said Tria\\u2019s CEO Dr Tobin Island. Already popular in America, the gadget has now arrived in Britain. Dr Island added: 'The Tria Hair Removal Laser 4X is the latest innovation in professional-quality, at-home solutions for our consumers. 'It has experienced tremendous success and vast consumer acceptance (in the US). We are extremely excited to bring it to UK consumers.' The handheld, cordless device - which comes in either green or fuchsia - uses a pulse counter and diode laser technology to disable hair follicles. It only works when applied to the right skin tone. The company recommends it for those with \\u2018light to medium\\u2019 skin tones. Those with very light hair are discouraged from using it as the laser light may not be absorbed efficiently, and those with medium to dark brown or black skin should not use it either, as skin could absorb the laser-light too efficiently and cause burns. Before and after: the effects of laser hair removal when using the Tria device .\",\n          \"By . Daily Mail Reporter . PUBLISHED: . 10:08 EST, 21 August 2013 . | . UPDATED: . 12:29 EST, 21 August 2013 . Charged: Ehab Aly Mohamed, a former cosmetic surgeon has been charged with voluntary manslaughter . A former cosmetic surgeon has been charged with voluntary manslaughter after allegedly giving a deadly cocktail of drugs during a liposuction procedure. Sharon Carpenter, 61, died following a 10-hour liposuction procedure Ehab Aly Mohamed carried out. She died in the 46-year-old's Encino office in August 2010 after allegedly being given  a combination of liocaine, fentanyl and oxycodone. LAPD Detective Joel Price told NBC that the surgeon who had Encino and Beverly Hills offices, had not shown any signs of remorse for his patient's death . The prosecution alleges that Mohamed\\u2019s office did not meet state-mandated safety standards involving equipment, staffing and emergency resources, reported the LA Times. In an accusation filed on behalf of the Medical Board of California in May 2012, attorneys alleged that Mohamed\\u2019s medical assistant thought the woman was becoming dehydrated so contacted a local hospital to request intravenous fluids and intravenous tubing. But Mohamed continued with the procedure after the hospital refused to 'sell'\\u00a0 him the medical supplies, reported the newspaper. NBC Los Angeles also reported that Mohamed had also been 'performing medical procedures on himself'. Death: Sharon Carpenter, 61, died in Ehab Aly Mohamed's office after a 10-hour liposuction procedure (file photo) According to the District Attorney's statement, on May 21, 2010, a 77-year-old patient of Mohamed's passed out during a liposuction procedure and still suffers from related health problems. Mohamed was also charged with elder abuse involving a second patient. Mohamed faces up to 10 years in prison if he's convicted - he is already jailed on previous burglary and forgery convictions, . according to a Los Angeles County District Attorney's office statement. According to KNX ,he is scheduled to be arraigned Wednesday in Van Nuys Superior Court.\",\n          \"Brutal: A youngster said to have been killed fighting on the frontline for the terror group . Hamid's son had been missing for a week, seized by Islamic State gunmen along with 148 other schoolchildren, when a friend discovered the fanatics had posted a contact number for distraught parents on the internet. He called the number and a militant put the terrified 13-year-old on the line. \\u2018He was really scared and crying so much,\\u2019 said Hamid. \\u2018I tried to calm him down and say it would be all right, but then I started crying too. I couldn\\u2019t help it.\\u2019 Seconds later, a jihadi leader took the phone and told the Kurdish car dealer that the seized pupils would only be let go if a group of captured IS fighters was freed. Hamid pleaded they were poor people without influence, begging him to spare their sons. \\u2018If they are not released within one week we will start killing your children, one by one,\\u2019 replied the callous terrorist leader. The teenage boys were not killed, however. Instead they were brainwashed, forced to watch horrific videos of beheadings and torture, then viciously beaten with cables if they failed to memorise Koranic verses or even if they drank water without permission. Their captors included many foreign extremists \\u2013 among them a white British doctor in his late 30s who treated the boys after the most savage beatings. Many of the boys were finally freed last week after almost five months in captivity. But delight turned to dismay for their families when the boys started telling their fathers they would soon be slaughtered by jihadis and ordered \\u2018indecent\\u2019 mothers and sisters to cover their faces. \\u2018It was like they had been infected with a mental disease,\\u2019 said Hamid. \\u2018They were praying all the time, not talking to us and behaving so strangely.\\u2019 The saga of the 149 seized pupils, subjected to intensive mind control to convert them into militants, gives chilling new insight into the cruelties of the terror group that has seized large chunks of Iraq and Syria. Staking their claim: The sinister black flag of the Islamic State flies over the town of Kobane, Syria . The children were from Kobane, the key Syrian border town being besieged by IS. Their astonishing story emerged as I spoke to some of the 200,000 Kurds forced to flee their homes in the region. I stood by these refugees as they cheered from over the Turkish border while watching bombs dropped by US-led coalition aircraft flatten buildings flying the black flag of the jihadis. The thump of mortar shells and sounds of gunfire were clearly audible from street fighting in the town lying just across fields, as IS launched a fresh assault on the key Kurdish stronghold yesterday. Cars abandoned by fleeing families could be seen parked in panic on the border, while there are fears hundreds of trapped civilians face massacre. Local and international fury is growing over the inaction of Turkey, a Nato ally seeking to join the European Union. Some 16 tanks and armoured personnel carriers were on a hill nearby me; several had guns trained on their own towns, not Syria. Turkey led calls for action against Syrian President Bashar Assad \\u2013 but its rulers fear Kurdish separatists more than the Islamist fanatics of IS. The country, home to 15 million Kurds, fought a secessionist insurgency for three decades until a ceasefire two years ago. Kurdish leaders accuse Turkey of supplying jihadis with weapons. \\u2018We have hundreds of youngsters who want to go and fight these people but Turkey will not let them cross the border,\\u2019 said Bakr Hadj Issa, a political activist from Kobane. More stories of murder and mayhem emerged yesterday. One man told me how IS thugs beheaded a well-known character with learning difficulties called Rashid, then drove around the streets dragging his body behind a car. \\u2018They do things like this to scare the population,\\u2019 said Farid Hinadi, a mechanic who witnessed the atrocity before escaping Kobane last week. Even amid such horrors, the brainwashing of schoolboys marks a terrible new twist in Syria\\u2019s nightmare. The story was confirmed by six families, most of whom asked not to be named for fear of reprisals. The children were captured at a checkpoint on May 29, as they were happily returning home in buses after 17 days of exams in Aleppo. Masked gunmen separated boys from girls, then took 149 Kurdish teenagers to a mosque in Minbij, an hour\\u2019s drive from Kobane. \\u2018They were very scary,\\u2019 said one 13-year-old. \\u2018There were many foreigners among them.\\u2019 The frightened boys were groomed with hours of lectures in radical Islam. They were told women should be covered up, that alcohol and music were forbidden, that earthly life was meaningless and killing disbelievers was the surest path to paradise. \\u2018They instructed us that jihad was an obligation and we would all be bought to justice before God on the day of judgment,\\u2019 said one 15-year-old. Every couple of days the boys were shown videos which became steadily more barbaric, with footage of beheadings, suicide operations and slaughtering of enemies. Chilling: The children were from Kobane, the key Syrian border town being besieged by IS, pictured above . Brainwashed: The frightened boys were told women should be covered up, that alcohol and music were forbidden and that killing disbelievers was the surest path to paradise. Above, ISIS militants in Syria . \\u2018They played emotional games to brainwash our boys to their cause, putting such heavy pressure on them,\\u2019 said one father, a market trader. \\u2018I have no doubt they wanted them to join their jihad.\\u2019 Slowly but surely, this intense indoctrination began to influence the boys. \\u2018I did not believe in it,\\u2019 a farmer\\u2019s son told me. \\u2018But after watching these videos, some of my friends said that when they left the prison they would return to join Daesh [the Arabic name for IS].\\u2019 The slightest infraction led to vicious beatings with cables on the boys\\u2019 backs or legs. One was left so badly wounded he could barely walk for ten days; another group was singled out for specially brutal violence lasting hours after other boys informed on escape plans. These teenagers were treated afterwards by a brown-haired European identified as \\u2018the British doctor\\u2019 by other militants. There were also several other guards from Europe. For the parents, the boys\\u2019 release ended an awful ordeal. \\u2018I was so sad, so scared and lost all hope,\\u2019 said Abu Azad, 54, whose 13 year-old son was badly beaten twice while held captive. But any joy was short-lived for many of the families, however, as they discovered how their lost children had been indoctrinated. \\u2018My son was praying all the time and talking about slaughtering people, which was very frightening,\\u2019 said one middle-class father. \\u2018He kept asking why we were not praying and was saying Daesh were coming to slaughter us. He was telling his mother and sisters to cover themselves up since they were indecent.\\u2019 After a week with his secular family, this studious 15-year-old had returned to his old self and he looked embarrassed when we discussed his brief burst of zealotry. Yet clearly some of the Kurdish teenagers remain militantly religious \\u2013 with at least one intent on returning to join the fanatics. \\u2018Some of these children still pray regularly and remain influenced by their experiences and the religious teaching,\\u2019 a local teacher said. He speculated the aim was also to sow disunity among besieged Kurds in Kobane. But for 29 of these families, the hell continues as their sons, seized five months ago by the world\\u2019s most lethal terror group, remain captive.\"\n        ],\n        \"semantic_type\": \"\",\n        \"description\": \"\"\n      }\n    },\n    {\n      \"column\": \"highlights\",\n      \"properties\": {\n        \"dtype\": \"string\",\n        \"num_unique_values\": 5,\n        \"samples\": [\n          \"The first DIY device of its kind it uses light-based laser beams to remove hair .\\nTria lasers now available in Harrods and Harvey Nichols .\\nKim Kardashian has endorsed the brand is in the past .\",\n          \"Sharon Carpenter, 61, died in Ehab Aly Mohamed's office in 2010 .\\nShe died following a 10-hour liposuction procedure .\",\n          \"IS seized 149 schoolchildren and subjected them to intensive mind control .\\nThey were from Kobane, the key Syrian border town being besieged by IS .\\nChildren were captured by gunmen at a checkpoint after exams in Aleppo .\\nThe frightened boys were groomed with hours of lectures in radical Islam .\\nMethods give chilling new insight into the cruelties of the terror group .\"\n        ],\n        \"semantic_type\": \"\",\n        \"description\": \"\"\n      }\n    }\n  ]\n}"
            }
          },
          "metadata": {},
          "execution_count": 8
        }
      ],
      "source": [
        "df_train.sample(5)"
      ]
    },
    {
      "cell_type": "code",
      "source": [
        "df_train = df_train.sample(10000, random_state=42)\n",
        "df_val = df_val.sample(4000, random_state=42)\n",
        "df_test = df_test.sample(2000, random_state=42)"
      ],
      "metadata": {
        "id": "Sde69h9--Jae"
      },
      "execution_count": 9,
      "outputs": []
    },
    {
      "cell_type": "markdown",
      "metadata": {
        "id": "zhIBLtX6hmJZ"
      },
      "source": [
        "# Фильтрация данных стоп-слова + пунктуация"
      ]
    },
    {
      "cell_type": "code",
      "execution_count": 10,
      "metadata": {
        "id": "xVEEDFCGV2E7"
      },
      "outputs": [],
      "source": [
        "stop_words = set(stopwords.words(\"english\"))\n",
        "negation_words= {\n",
        "    \"not\", \"no\", \"never\", \"none\", \"nobody\", \"nothing\", \"neither\", \"nowhere\",\n",
        "    \"hasn't\", \"haven't\", \"hadn't\", \"doesn't\", \"don't\", \"didn't\",\n",
        "    \"won't\", \"wouldn't\", \"can't\", \"couldn't\", \"isn't\", \"aren't\", \"wasn't\", \"weren't\",\n",
        "    \"without\", \"nor\"\n",
        "}\n",
        "filtered_stopwords = stop_words - negation_words\n",
        "punctuation = set(string.punctuation)\n",
        "\n",
        "def preprocessing_text(text):\n",
        "  text =text.lower()\n",
        "\n",
        "  text = re.sub(r'<[^>]+>', '', text)\n",
        "\n",
        "  text = re.sub(r\"http\\S+\", \"\", text)\n",
        "\n",
        "  text = re.sub(r\"[^\\w\\s]\", \"\", text)\n",
        "\n",
        "  text = re.sub(r'\\s+', ' ', text).strip()\n",
        "\n",
        "  words = text.split()\n",
        "\n",
        "  filtered = [word for word in words if word not in filtered_stopwords]\n",
        "\n",
        "  return \" \".join(filtered)\n",
        "  return text"
      ]
    },
    {
      "cell_type": "code",
      "execution_count": 11,
      "metadata": {
        "colab": {
          "base_uri": "https://localhost:8080/",
          "height": 123
        },
        "id": "TAsSgi_XZW9T",
        "outputId": "ffa5a5de-79d1-4f2e-e028-e3b060362089"
      },
      "outputs": [
        {
          "output_type": "execute_result",
          "data": {
            "text/plain": [
              "'mia de graaf britons flocked beaches across southern coast yesterday millions look set bask glorious sunshine today temperatures soared 17c brighton dorset people starting long weekend deck chairs sea figures asda suggest unexpected sunshine also inspired wave impromptu barbecues sales sausages equipment expected triple april suns brighton beach packed britons enjoying unexpected sunshine start long weekend temperatures hit 17c across south coast although frost set hit south tonight temperatures dropping 1c britons stocking barbecue luck tomorrow forecasters predicting dry sunny weather across southern england southern wales south midlands weymouth dorset sun came time towns annual kite festival held beach good weather not enjoyed heavy rain poured across north west unfortunately dark clouds intermittent rain across northern england scotland set last throughout long weekend tuesday however north east enjoyed bright spell midday today sun shining harrogate york ahead rainy weekend met office spokesman helen roberts told mailonline hasnt great whole country story two halves crowds took deckchairs see bank holiday weekend brighton beach rain clouds swept country north frost temperatures 1c forecast hit southern england tonight planning barbecue bank dry sunny day tomorrow according met office todays temperatures brighton not unusual time year follows windy wet spell best sunshine towards south south east north theres lot cloud outbreaks rain tomorrow similar picture temperatures average time year might see 17c tomorrow not much higher unusual thing overnight minimum temperatures really going quite low looking touch air frost tonight places south clear skies thats not common may tonight cloud drizzle expected cast northern western areas country heavier bursts rain scotland summer time many took sun wearing bikinis sarongs first weekend britons gear summer activity sun came time opening day weymouth kite festival sees people come show creative kites three day forecast tomorrow sunny spells warm weather set cover southern england heavy rain north set stay southern eastern england looks set remain dryclear mild despite cold temperatures east anglia intermittent rain cloud currently sweeping across north set last throughout sunday monday tuesday cloud rain spread northern western parts country bank holiday monday heavy rain evening apart showers southern central parts england largely dry warm sunshine breaking though rain poured north west north east enjoyed bright spell midday today sun shining harrogate pictured ahead rainy weekend walkers took harrogates parks sun came short time town cloud predicted tomorrow'"
            ],
            "application/vnd.google.colaboratory.intrinsic+json": {
              "type": "string"
            }
          },
          "metadata": {},
          "execution_count": 11
        }
      ],
      "source": [
        "df_train[\"article\"] = df_train[\"article\"].apply(preprocessing_text)\n",
        "df_train[\"article\"].iloc[0]"
      ]
    },
    {
      "cell_type": "code",
      "source": [
        "df_train[\"highlights\"] = df_train[\"highlights\"].apply(preprocessing_text)\n",
        "df_train[\"highlights\"].iloc[0]"
      ],
      "metadata": {
        "colab": {
          "base_uri": "https://localhost:8080/",
          "height": 53
        },
        "id": "JHcFU854IxSR",
        "outputId": "7e7573b8-df94-4217-ecf5-3c2e9e47f4b7"
      },
      "execution_count": 12,
      "outputs": [
        {
          "output_type": "execute_result",
          "data": {
            "text/plain": [
              "'people enjoyed temperatures 17c brighton beach west sussex weymouth dorset asda claims sell million sausages long weekend despite night temperatures dropping minus 1c good weather not enjoyed north west scotland seen heavy rain'"
            ],
            "application/vnd.google.colaboratory.intrinsic+json": {
              "type": "string"
            }
          },
          "metadata": {},
          "execution_count": 12
        }
      ]
    },
    {
      "cell_type": "code",
      "execution_count": 13,
      "metadata": {
        "colab": {
          "base_uri": "https://localhost:8080/",
          "height": 123
        },
        "id": "s4CIFncUlB37",
        "outputId": "678b5f58-bc94-468e-9f42-ea48e0b4f379"
      },
      "outputs": [
        {
          "output_type": "execute_result",
          "data": {
            "text/plain": [
              "'mia de graaf britons flocked beaches across southern coast yesterday millions look set bask glorious sunshine today temperatures soared 17c brighton dorset people starting long weekend deck chairs sea figures asda suggest unexpected sunshine also inspired wave impromptu barbecues sales sausages equipment expected triple april suns brighton beach packed britons enjoying unexpected sunshine start long weekend temperatures hit 17c across south coast although frost set hit south tonight temperatures dropping 1c britons stocking barbecue luck tomorrow forecasters predicting dry sunny weather across southern england southern wales south midlands weymouth dorset sun came time towns annual kite festival held beach good weather not enjoyed heavy rain poured across north west unfortunately dark clouds intermittent rain across northern england scotland set last throughout long weekend tuesday however north east enjoyed bright spell midday today sun shining harrogate york ahead rainy weekend met office spokesman helen roberts told mailonline hasnt great whole country story two halves crowds took deckchairs see bank holiday weekend brighton beach rain clouds swept country north frost temperatures 1c forecast hit southern england tonight planning barbecue bank dry sunny day tomorrow according met office todays temperatures brighton not unusual time year follows windy wet spell best sunshine towards south south east north theres lot cloud outbreaks rain tomorrow similar picture temperatures average time year might see 17c tomorrow not much higher unusual thing overnight minimum temperatures really going quite low looking touch air frost tonight places south clear skies thats not common may tonight cloud drizzle expected cast northern western areas country heavier bursts rain scotland summer time many took sun wearing bikinis sarongs first weekend britons gear summer activity sun came time opening day weymouth kite festival sees people come show creative kites three day forecast tomorrow sunny spells warm weather set cover southern england heavy rain north set stay southern eastern england looks set remain dryclear mild despite cold temperatures east anglia intermittent rain cloud currently sweeping across north set last throughout sunday monday tuesday cloud rain spread northern western parts country bank holiday monday heavy rain evening apart showers southern central parts england largely dry warm sunshine breaking though rain poured north west north east enjoyed bright spell midday today sun shining harrogate pictured ahead rainy weekend walkers took harrogates parks sun came short time town cloud predicted tomorrow'"
            ],
            "application/vnd.google.colaboratory.intrinsic+json": {
              "type": "string"
            }
          },
          "metadata": {},
          "execution_count": 13
        }
      ],
      "source": [
        "df_val[\"article\"] = df_val[\"article\"].apply(preprocessing_text)\n",
        "df_val[\"article\"].iloc[0]"
      ]
    },
    {
      "cell_type": "code",
      "source": [
        "df_val[\"highlights\"] = df_val[\"highlights\"].apply(preprocessing_text)\n",
        "df_val[\"highlights\"].iloc[0]"
      ],
      "metadata": {
        "colab": {
          "base_uri": "https://localhost:8080/",
          "height": 53
        },
        "id": "uuYa4WlVIxzy",
        "outputId": "25b81d21-3af7-44a9-b327-ce0f93c970de"
      },
      "execution_count": 14,
      "outputs": [
        {
          "output_type": "execute_result",
          "data": {
            "text/plain": [
              "'people enjoyed temperatures 17c brighton beach west sussex weymouth dorset asda claims sell million sausages long weekend despite night temperatures dropping minus 1c good weather not enjoyed north west scotland seen heavy rain'"
            ],
            "application/vnd.google.colaboratory.intrinsic+json": {
              "type": "string"
            }
          },
          "metadata": {},
          "execution_count": 14
        }
      ]
    },
    {
      "cell_type": "markdown",
      "metadata": {
        "id": "MuyxXEi4k0i_"
      },
      "source": [
        "# Токенизация"
      ]
    },
    {
      "cell_type": "code",
      "execution_count": null,
      "metadata": {
        "id": "AMar9Gzej6to"
      },
      "outputs": [],
      "source": [
        "from transformers import T5Tokenizer\n",
        "tokenizer = T5Tokenizer.from_pretrained(\"t5-small\")"
      ]
    },
    {
      "cell_type": "code",
      "execution_count": 16,
      "metadata": {
        "id": "lw4U5uolk7EG",
        "colab": {
          "base_uri": "https://localhost:8080/"
        },
        "outputId": "5d399807-64a5-434a-f944-1ca5d8bf824b"
      },
      "outputs": [
        {
          "output_type": "stream",
          "name": "stderr",
          "text": [
            "Token indices sequence length is longer than the specified maximum sequence length for this model (541 > 512). Running this sequence through the model will result in indexing errors\n"
          ]
        },
        {
          "output_type": "stream",
          "name": "stdout",
          "text": [
            "Train max: 2167\n",
            "Val max: 2103\n"
          ]
        }
      ],
      "source": [
        "df_train[\"input_len\"] = df_train[\"article\"].apply(lambda x: len(tokenizer.encode(x, truncation=False)))\n",
        "df_val[\"input_len\"] = df_val[\"article\"].apply(lambda x: len(tokenizer.encode(x, truncation=False)))\n",
        "\n",
        "print(\"Train max:\", df_train[\"input_len\"].max())\n",
        "print(\"Val max:\", df_val[\"input_len\"].max())"
      ]
    },
    {
      "cell_type": "code",
      "source": [
        "max_input_len = df_train[\"input_len\"].quantile(0.95)\n",
        "max_target_len = df_train[\"highlights\"].apply(lambda x: len(tokenizer.encode(x, truncation=False))).quantile(0.95)\n",
        "print(max_input_len)\n",
        "print(max_target_len)"
      ],
      "metadata": {
        "colab": {
          "base_uri": "https://localhost:8080/"
        },
        "id": "j2jg_DfA8TYo",
        "outputId": "6a230f19-d039-4152-c51e-e86ff7c05e6d"
      },
      "execution_count": 17,
      "outputs": [
        {
          "output_type": "stream",
          "name": "stdout",
          "text": [
            "1215.0\n",
            "88.0\n"
          ]
        }
      ]
    },
    {
      "cell_type": "code",
      "source": [
        "def tokenization(examples):\n",
        "    model_inputs = tokenizer(\n",
        "        examples[\"article\"],\n",
        "        max_length=int(max_input_len),\n",
        "        truncation=True,\n",
        "        padding=\"max_length\"\n",
        "    )\n",
        "\n",
        "    labels = tokenizer(\n",
        "        examples[\"highlights\"],\n",
        "        max_length=int(max_target_len),\n",
        "        truncation=True,\n",
        "        padding=\"max_length\"\n",
        "        )\n",
        "\n",
        "    labels_ids = labels[\"input_ids\"]\n",
        "\n",
        "\n",
        "    new_labels = []\n",
        "    for label_seq in labels_ids:\n",
        "        new_labels.append([\n",
        "            (label if label != tokenizer.pad_token_id else -100) for label in label_seq\n",
        "        ])\n",
        "\n",
        "    model_inputs[\"labels\"] = new_labels\n",
        "\n",
        "    return model_inputs"
      ],
      "metadata": {
        "id": "lzRGGsbHJkfI"
      },
      "execution_count": 18,
      "outputs": []
    },
    {
      "cell_type": "code",
      "source": [
        "train_dataset = Dataset.from_pandas(df_train)\n",
        "val_dataset = Dataset.from_pandas(df_val)\n",
        "test_dataset = Dataset.from_pandas(df_test)"
      ],
      "metadata": {
        "id": "oTmm7NSVJ768"
      },
      "execution_count": 19,
      "outputs": []
    },
    {
      "cell_type": "code",
      "source": [
        "train_dataset"
      ],
      "metadata": {
        "colab": {
          "base_uri": "https://localhost:8080/"
        },
        "id": "URKfBWVXKM62",
        "outputId": "8b2ec33b-d5ee-46f2-c6a3-a003a853d73e"
      },
      "execution_count": 20,
      "outputs": [
        {
          "output_type": "execute_result",
          "data": {
            "text/plain": [
              "Dataset({\n",
              "    features: ['id', 'article', 'highlights', 'input_len', '__index_level_0__'],\n",
              "    num_rows: 10000\n",
              "})"
            ]
          },
          "metadata": {},
          "execution_count": 20
        }
      ]
    },
    {
      "cell_type": "code",
      "source": [
        "tokenized_train = train_dataset.map(tokenization, batched=True, batch_size=16, remove_columns=train_dataset.column_names)\n",
        "tokenized_val = val_dataset.map(tokenization, batched=True, batch_size=16, remove_columns=val_dataset.column_names)"
      ],
      "metadata": {
        "id": "QUYDCzwoJrPA"
      },
      "execution_count": null,
      "outputs": []
    },
    {
      "cell_type": "markdown",
      "source": [
        "#  Обучение"
      ],
      "metadata": {
        "id": "qUlQwcl04NgS"
      }
    },
    {
      "cell_type": "code",
      "source": [
        "training_args = Seq2SeqTrainingArguments(\n",
        "    output_dir=\"./t5-model_result\",\n",
        "    eval_strategy=\"epoch\",\n",
        "    learning_rate=2e-5,\n",
        "    per_device_train_batch_size=2,\n",
        "    per_device_eval_batch_size=2,\n",
        "    weight_decay=0.01,\n",
        "    save_total_limit=2,\n",
        "    num_train_epochs=5,\n",
        "    predict_with_generate=True,\n",
        "    report_to=\"none\",\n",
        "    no_cuda=False,\n",
        "    dataloader_num_workers=0,\n",
        "    fp16=True\n",
        ")"
      ],
      "metadata": {
        "id": "C7Ij7Jx2zdr5"
      },
      "execution_count": 22,
      "outputs": []
    },
    {
      "cell_type": "code",
      "source": [
        "model = T5ForConditionalGeneration.from_pretrained(\"t5-small\")\n"
      ],
      "metadata": {
        "id": "FOGFUajX47FF"
      },
      "execution_count": null,
      "outputs": []
    },
    {
      "cell_type": "code",
      "source": [
        "trainer = Seq2SeqTrainer(\n",
        "    model=model,\n",
        "    args=training_args,\n",
        "    train_dataset=tokenized_train,\n",
        "    eval_dataset=tokenized_val,\n",
        "    tokenizer=tokenizer,\n",
        ")"
      ],
      "metadata": {
        "colab": {
          "base_uri": "https://localhost:8080/"
        },
        "id": "ztK0YqFX4W5m",
        "outputId": "61628964-a788-4bf1-8428-35a9bdcdbab8"
      },
      "execution_count": 24,
      "outputs": [
        {
          "output_type": "stream",
          "name": "stderr",
          "text": [
            "/tmp/ipython-input-3576653572.py:1: FutureWarning: `tokenizer` is deprecated and will be removed in version 5.0.0 for `Seq2SeqTrainer.__init__`. Use `processing_class` instead.\n",
            "  trainer = Seq2SeqTrainer(\n"
          ]
        }
      ]
    },
    {
      "cell_type": "code",
      "source": [
        "import torch\n",
        "device = torch.device(\"cuda\" if torch.cuda.is_available() else \"cpu\")"
      ],
      "metadata": {
        "id": "dljh_6A7VR25"
      },
      "execution_count": 25,
      "outputs": []
    },
    {
      "cell_type": "code",
      "source": [
        "torch.cuda.is_available()"
      ],
      "metadata": {
        "colab": {
          "base_uri": "https://localhost:8080/"
        },
        "id": "ti9S5w1Wd2fq",
        "outputId": "d2c467e4-d6d7-4ee9-fa3e-a2c5b5f6ed02"
      },
      "execution_count": 26,
      "outputs": [
        {
          "output_type": "execute_result",
          "data": {
            "text/plain": [
              "True"
            ]
          },
          "metadata": {},
          "execution_count": 26
        }
      ]
    },
    {
      "cell_type": "code",
      "source": [
        "trainer.train()"
      ],
      "metadata": {
        "id": "luxCsXPM5O73"
      },
      "execution_count": null,
      "outputs": []
    },
    {
      "cell_type": "code",
      "source": [
        "from google.colab import drive\n",
        "drive.mount('/content/drive')\n",
        "\n",
        "# Сохраняем модель в Google Drive\n",
        "model.save_pretrained(\"/content/drive/MyDrive/my_t5_model\")\n",
        "tokenizer.save_pretrained(\"/content/drive/MyDrive/my_t5_model\")"
      ],
      "metadata": {
        "colab": {
          "base_uri": "https://localhost:8080/"
        },
        "id": "mRZd-BEV8HfF",
        "outputId": "5e46c10f-0478-42a8-9317-52d13832da34"
      },
      "execution_count": 52,
      "outputs": [
        {
          "output_type": "stream",
          "name": "stdout",
          "text": [
            "Mounted at /content/drive\n"
          ]
        },
        {
          "output_type": "execute_result",
          "data": {
            "text/plain": [
              "('/content/drive/MyDrive/my_t5_model/tokenizer_config.json',\n",
              " '/content/drive/MyDrive/my_t5_model/special_tokens_map.json',\n",
              " '/content/drive/MyDrive/my_t5_model/spiece.model',\n",
              " '/content/drive/MyDrive/my_t5_model/added_tokens.json')"
            ]
          },
          "metadata": {},
          "execution_count": 52
        }
      ]
    },
    {
      "cell_type": "markdown",
      "source": [
        "# Результаты"
      ],
      "metadata": {
        "id": "xzZX8wL8QTAi"
      }
    },
    {
      "cell_type": "code",
      "source": [
        "from tqdm import tqdm\n",
        "tqdm.pandas()\n",
        "\n",
        "device = torch.device(\"cuda\" if torch.cuda.is_available() else \"cpu\")\n",
        "model.to(device)\n",
        "\n",
        "def summarize_text(article):\n",
        "    article = preprocessing_text(article)\n",
        "\n",
        "    inputs = tokenizer(\n",
        "        article,\n",
        "        return_tensors=\"pt\",\n",
        "        truncation=True,\n",
        "        padding=\"max_length\",\n",
        "        max_length=512\n",
        "    )\n",
        "\n",
        "    input_ids = inputs[\"input_ids\"].to(device)\n",
        "    attention_mask = inputs[\"attention_mask\"].to(device)\n",
        "\n",
        "    outputs = model.generate(\n",
        "        input_ids,\n",
        "        attention_mask=attention_mask,\n",
        "        max_length=150,\n",
        "        min_length=30,\n",
        "        num_beams=4,\n",
        "        length_penalty=2.0,\n",
        "        early_stopping=True\n",
        "    )\n",
        "\n",
        "    summary = tokenizer.decode(outputs[0], skip_special_tokens=True)\n",
        "    return summary\n",
        "\n",
        "\n",
        "df_test[\"predicted_summary\"] = df_test[\"article\"].progress_apply(summarize_text)"
      ],
      "metadata": {
        "colab": {
          "base_uri": "https://localhost:8080/"
        },
        "id": "ort_bQrSPW57",
        "outputId": "ebbf2ac3-c24c-496b-860b-a235b5b364cc"
      },
      "execution_count": 35,
      "outputs": [
        {
          "output_type": "stream",
          "name": "stderr",
          "text": [
            "100%|██████████| 2000/2000 [27:28<00:00,  1.21it/s]\n"
          ]
        }
      ]
    },
    {
      "cell_type": "code",
      "source": [
        "print(\"The Article :\\n\",df_test[\"article\"].iloc[0])\n",
        "\n",
        "print(f\"The Highlights:\\n\",df_test[\"highlights\"].iloc[0])\n",
        "\n",
        "print(f\"The Predicted Summary:\\n\",df_test[\"predicted_summary\"].iloc[0])"
      ],
      "metadata": {
        "colab": {
          "base_uri": "https://localhost:8080/"
        },
        "id": "gJRwtSy1SzVV",
        "outputId": "aa960206-6999-4017-ef98-d1af5d2bb0fe"
      },
      "execution_count": 38,
      "outputs": [
        {
          "output_type": "stream",
          "name": "stdout",
          "text": [
            "The Article :\n",
            " By . Mia De Graaf . Britons flocked to beaches across the southern coast yesterday as millions look set to bask in glorious sunshine today. Temperatures soared to 17C in Brighton and Dorset, with people starting their long weekend in deck chairs by the sea. Figures from Asda suggest the unexpected sunshine has also inspired a wave of impromptu barbecues, with sales of sausages and equipment expected to triple those in April. Sun's out: Brighton beach was packed with Britons enjoying the unexpected sunshine to start the long weekend as temperatures hit 17C across the south coast . Although frost is set to hit the south tonight - with temperatures dropping to 1C - Britons stocking up for a barbecue will be in luck tomorrow, with forecasters predicting dry and sunny weather across southern England, southern Wales and the south Midlands. In Weymouth, Dorset, the sun came out in time for the town's annual kite festival, held on the beach. But the good weather has not been enjoyed by all as heavy rain poured down across the north west. Unfortunately, the dark clouds and intermittent rain across northern England and Scotland is set to last throughout the long weekend and into Tuesday. However, the north east enjoyed a bright spell at midday today with sun shining in Harrogate and York ahead of the rainy weekend. Met Office spokesman Helen Roberts told MailOnline: 'It hasn't been great for the whole country - it's been a story of two halves. Crowds took to deckchairs to see in the Bank Holiday weekend on Brighton beach - while rain and clouds swept the country up north . Frost and temperatures of 1C are forecast to hit southern England tonight, but those planning a barbecue can bank on a dry, sunny day tomorrow . According to the Met Office, today's temperatures in Brighton were not unusual for this time of year, but it follows a windy and wet spell . 'The best of the sunshine has been . towards to south and south east, and further north there's been a lot of . cloud and outbreaks of rain. Tomorrow will be a similar picture. 'These temperatures are about . average for this time of the year. We might see 17C tomorrow but not . much higher. 'The most unusual thing is overnight minimum temperatures, which are really going to be quite low. We're looking at a touch of air frost tonight in places in the south, where there will be clear skies. That's not common for May.' Tonight, cloud and drizzle . is expected to cast over northern and western areas of the country, with . heavier bursts of rain in Scotland. Summer time: Many took to the sun wearing bikinis and sarongs for the first weekend as Britons gear themselves up for summer . Activity: The sun came out in time for the opening day of Weymouth Kite Festival, which sees people from all over come to show off creative kites . Three day forecast: Tomorrow sunny spells and warm weather is set to cover southern England, but the heavy rain up north is set to stay . Southern and eastern England looks set to remain dry,clear, and mild, despite cold temperatures in East Anglia. The intermittent rain and cloud currently sweeping across the north is set to last throughout Sunday, Monday and Tuesday. Cloud . and rain will spread into northern and western parts of the country on . Bank Holiday Monday, with heavy rain in the evening. Apart from a few showers, southern and central parts of England should be largely dry with some warm sunshine breaking through. Though rain poured down in the north west, the north east enjoyed a bright spell at midday today with sun shining in Harrogate (pictured) ahead of the rainy weekend . Walkers took to Harrogate's parks as the sun came out for a short time in the town but cloud is predicted for tomorrow .\n",
            "The Highlights:\n",
            " People enjoyed temperatures of 17C at Brighton beach in West Sussex and Weymouth in Dorset .\n",
            "Asda claims it will sell a million sausages over long weekend despite night temperatures dropping to minus 1C .\n",
            "But the good weather has not been enjoyed by all as the north west and Scotland have seen heavy rain .\n",
            "The Predicted Summary:\n",
            " temperatures soared 17c brighton dorset people starting long weekend deck chairs sea figures asda suggest unexpected sunshine also inspired wave impromptu barbecues sales sausages equipment expected triple april suns brighton beach packed britons enjoying unexpected sunshine\n"
          ]
        }
      ]
    },
    {
      "cell_type": "code",
      "source": [
        "!pip install rouge_score\n",
        "!pip install bert_score"
      ],
      "metadata": {
        "id": "zofheusxZvrr"
      },
      "execution_count": null,
      "outputs": []
    },
    {
      "cell_type": "code",
      "source": [
        "from rouge_score import rouge_scorer\n",
        "from bert_score import score\n",
        "\n",
        "refs = df_test[\"highlights\"].tolist()\n",
        "preds = df_test[\"predicted_summary\"].tolist()\n",
        "\n",
        "\n",
        "P, R, F1 = score(cands=preds, refs=refs, lang=\"en\", verbose=False)\n",
        "\n",
        "print(f\"BERTScore Precision: {P.mean().item():.4f}\")\n",
        "print(f\"BERTScore Recall:    {R.mean().item():.4f}\")\n",
        "print(f\"BERTScore F1:        {F1.mean().item():.4f}\")"
      ],
      "metadata": {
        "id": "AxpKP7_IZNN8"
      },
      "execution_count": null,
      "outputs": []
    },
    {
      "cell_type": "code",
      "source": [
        "scorer = rouge_scorer.RougeScorer(['rouge1', 'rouge2', 'rougeL'], use_stemmer=True)\n",
        "\n",
        "rouge1_list = []\n",
        "\n",
        "\n",
        "for ref, pred in zip(df_test[\"highlights\"], df_test[\"predicted_summary\"]):\n",
        "    scores = scorer.score(ref, pred)\n",
        "    rouge1_list.append(scores['rouge1'].fmeasure)\n",
        "\n",
        "print(f\"Average ROUGE-1 F1: {sum(rouge1_list)/len(rouge1_list):.4f}\")"
      ],
      "metadata": {
        "colab": {
          "base_uri": "https://localhost:8080/"
        },
        "id": "Gj_3c2jCaZiH",
        "outputId": "2e10d9e7-06ac-4ed4-c2f0-9a2031ad0036"
      },
      "execution_count": 50,
      "outputs": [
        {
          "output_type": "stream",
          "name": "stdout",
          "text": [
            "Average ROUGE-1 F1: 0.2569\n"
          ]
        }
      ]
    },
    {
      "cell_type": "code",
      "source": [
        "import gradio as gr\n",
        "\n",
        "demo = gr.Interface(fn=summarize_text, inputs=\"textbox\", outputs=\"textbox\", title=\"Text Summarizer\")\n",
        "demo.launch(share=True)"
      ],
      "metadata": {
        "colab": {
          "base_uri": "https://localhost:8080/",
          "height": 611
        },
        "id": "wS4TUjvbkhSz",
        "outputId": "5ee4a63c-0a63-4296-962a-004be5097ef8"
      },
      "execution_count": 53,
      "outputs": [
        {
          "output_type": "stream",
          "name": "stdout",
          "text": [
            "Colab notebook detected. To show errors in colab notebook, set debug=True in launch()\n",
            "* Running on public URL: https://5b7bdd5a982c165155.gradio.live\n",
            "\n",
            "This share link expires in 1 week. For free permanent hosting and GPU upgrades, run `gradio deploy` from the terminal in the working directory to deploy to Hugging Face Spaces (https://huggingface.co/spaces)\n"
          ]
        },
        {
          "output_type": "display_data",
          "data": {
            "text/plain": [
              "<IPython.core.display.HTML object>"
            ],
            "text/html": [
              "<div><iframe src=\"https://5b7bdd5a982c165155.gradio.live\" width=\"100%\" height=\"500\" allow=\"autoplay; camera; microphone; clipboard-read; clipboard-write;\" frameborder=\"0\" allowfullscreen></iframe></div>"
            ]
          },
          "metadata": {}
        },
        {
          "output_type": "execute_result",
          "data": {
            "text/plain": []
          },
          "metadata": {},
          "execution_count": 53
        }
      ]
    }
  ],
  "metadata": {
    "colab": {
      "provenance": [],
      "gpuType": "T4",
      "authorship_tag": "ABX9TyNo/i8q993/3oaiU4CQ4g8f",
      "include_colab_link": true
    },
    "kernelspec": {
      "display_name": "Python 3",
      "name": "python3"
    },
    "language_info": {
      "name": "python"
    },
    "accelerator": "GPU"
  },
  "nbformat": 4,
  "nbformat_minor": 0
}